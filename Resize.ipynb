{
 "cells": [
  {
   "cell_type": "markdown",
   "metadata": {},
   "source": [
    "# Resize Images\n",
    "\n",
    "We need to resize images for training so the images in our mimibatches are all the same size."
   ]
  },
  {
   "cell_type": "code",
   "execution_count": 1,
   "metadata": {},
   "outputs": [],
   "source": [
    "import cv2\n",
    "from pathlib import Path"
   ]
  },
  {
   "cell_type": "code",
   "execution_count": 2,
   "metadata": {},
   "outputs": [],
   "source": [
    "def read_image(path):\n",
    "    im = cv2.imread(str(path))\n",
    "    return cv2.cvtColor(im, cv2.COLOR_BGR2RGB)\n",
    "\n",
    "def resize_images(path, sz=(400,240)):\n",
    "    \"\"\"resize image\"\"\"\n",
    "    im = read_image(path)\n",
    "    return cv2.resize(im, sz)\n",
    "\n",
    "def resize_all_images(path, org_path):\n",
    "    \"\"\"resize all images\n",
    "    path = new path\n",
    "    org_path = original path\"\"\"\n",
    "    \n",
    "    files = [x for x in list(org_path.iterdir())]\n",
    "    for f in files:\n",
    "        f_name = f.parts[-1]\n",
    "        new_path = path/f_name\n",
    "        im = resize_images(f)\n",
    "        cv2.imwrite(str(new_path), cv2.cvtColor(im, cv2.COLOR_RGB2BGR))"
   ]
  },
  {
   "cell_type": "code",
   "execution_count": 3,
   "metadata": {},
   "outputs": [],
   "source": [
    "PATH = Path('img')\n",
    "\n",
    "org_path = PATH/\"sofa\"\n",
    "resize_path = PATH/\"resize\"\n",
    "resize_path.mkdir(exist_ok=True)\n",
    "\n",
    "resize_all_images(resize_path, org_path)"
   ]
  }
 ],
 "metadata": {
  "kernelspec": {
   "display_name": "Python 3",
   "language": "python",
   "name": "python3"
  },
  "language_info": {
   "codemirror_mode": {
    "name": "ipython",
    "version": 3
   },
   "file_extension": ".py",
   "mimetype": "text/x-python",
   "name": "python",
   "nbconvert_exporter": "python",
   "pygments_lexer": "ipython3",
   "version": "3.6.7"
  }
 },
 "nbformat": 4,
 "nbformat_minor": 2
}
